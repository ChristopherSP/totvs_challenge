{
 "cells": [
  {
   "cell_type": "markdown",
   "metadata": {},
   "source": [
    "# Question 1\n",
    "\n",
    "Based on the given dataset, some possible use cases are as follows:\n",
    "\n",
    " - Understanding how products are sold together - via basket analysis for example - which in turn can be used to build a optimal store (website) layout.\n",
    " - Forecasting the mean sales values, in order to think about the direction of the business in the short and medium term.\n",
    " - Forecasting items sales, to have a better stock control.\n",
    " - Making a model to understand and predict which clients will abandon the company, and then think in a proper way to retain the profitable ones. \n",
    " - There is already a group_code but a more efficiently method can be used to cluster clients and determine better profiles.\n",
    " - Understand sales operation as a whole by making a good descriptive analysis, like the top sold items or top profitables clients, top employees, check employees performance overtime, verify problems with employees and channel by checking churn and so on."
   ]
  },
  {
   "cell_type": "markdown",
   "metadata": {},
   "source": [
    "# Question 2\n",
    "\n",
    "Churn models were created based on a real business need of the telecommunication sector. Companies needed to understand which of there clients had high risk of cancelling their contracts and move to the competitor. This type of situation its still a problem today, worse even so, since companies grow in number and the competition is much more intense with clients ever so eager to a better product, or service or attendance.\n",
    "\n",
    "With this situation in mind, developing a model that can predict which of ones clients have a greater risk to leave his company has a huge impact because can aid the company to retain the profitables clients by making a target campaign and speak directly to those who matter in the best and most efficiently way possible, reducing their company's risk, helping than to save money with inefficiently marketing and helping create a better image in the eyes of the clients.\n"
   ]
  },
  {
   "cell_type": "markdown",
   "metadata": {},
   "source": [
    "# Questions 3 and 4\n",
    "\n",
    "The code was written using pure R language with the following configuration:\n",
    "\n",
    "platform       x86_64-pc-linux-gnu         \n",
    "arch           x86_64                      \n",
    "os             linux-gnu                   \n",
    "system         x86_64, linux-gnu           \n",
    "status                                     \n",
    "major          3                           \n",
    "minor          4.3                         \n",
    "year           2017                        \n",
    "month          11                          \n",
    "day            30                          \n",
    "svn rev        73796                       \n",
    "language       R                           \n",
    "version.string R version 3.4.3 (2017-11-30)\n",
    "nickname       Kite-Eating Tree  \n",
    "\n",
    "Packages Version:\n",
    " - jsonlite: 1.5\n",
    " - data.table: 1.10.4.3\n",
    " - stringi: 1.1.7\n",
    " - lubridate: 1.7.2\n",
    " - caret: 6.0.78\n",
    " - pROC: 1.10.0\n",
    " - PRROC: 1.3\n"
   ]
  },
  {
   "cell_type": "markdown",
   "metadata": {},
   "source": [
    "## ETL procedures"
   ]
  },
  {
   "cell_type": "code",
   "execution_count": 1,
   "metadata": {},
   "outputs": [
    {
     "name": "stderr",
     "output_type": "stream",
     "text": [
      "\n",
      "Attaching package: ‘lubridate’\n",
      "\n",
      "The following objects are masked from ‘package:data.table’:\n",
      "\n",
      "    hour, isoweek, mday, minute, month, quarter, second, wday, week,\n",
      "    yday, year\n",
      "\n",
      "The following object is masked from ‘package:base’:\n",
      "\n",
      "    date\n",
      "\n",
      "Loading required package: lattice\n",
      "Loading required package: ggplot2\n",
      "Type 'citation(\"pROC\")' for a citation.\n",
      "\n",
      "Attaching package: ‘pROC’\n",
      "\n",
      "The following objects are masked from ‘package:stats’:\n",
      "\n",
      "    cov, smooth, var\n",
      "\n"
     ]
    }
   ],
   "source": [
    "# Importing libraries\n",
    "\n",
    "#manage json files\n",
    "library(jsonlite)\n",
    "#efficienty dataframe-like structure\n",
    "library(data.table)\n",
    "#string operations\n",
    "library(stringi)\n",
    "#date operations\n",
    "library(lubridate)\n",
    "#statistical and ml library\n",
    "library(caret)\n",
    "#performance functions\n",
    "#Area Under Roc Curve\n",
    "library(pROC)\n",
    "#Area Under Precision x Recall Curve\n",
    "library(PRROC)"
   ]
  },
  {
   "cell_type": "markdown",
   "metadata": {},
   "source": [
    "Reads the json file located in the same folder and converts to a datatable structure, which is faster and more memory efficient than the default R dataframe format."
   ]
  },
  {
   "cell_type": "code",
   "execution_count": 2,
   "metadata": {},
   "outputs": [
    {
     "name": "stdout",
     "output_type": "stream",
     "text": [
      "Classes ‘data.table’ and 'data.frame':\t204428 obs. of  14 variables:\n",
      " $ customer_code   : int  143 433 486 107 768 740 58 408 25 58 ...\n",
      " $ branch_id       : int  0 0 0 0 0 0 0 0 0 0 ...\n",
      " $ sales_channel   : int  0 1 0 1 1 8 0 1 0 1 ...\n",
      " $ seller_code     : int  190 153 166 156 218 213 179 199 94 179 ...\n",
      " $ register_date   : chr  \"2017-11-10T00:00:00Z\" \"2011-05-16T00:00:00Z\" \"2018-01-24T00:00:00Z\" \"2010-07-28T00:00:00Z\" ...\n",
      " $ total_price     : num  1614 11164 6432 832 1736 ...\n",
      " $ order_id        : int  21804 5486 22662 3956 4730 1835 11450 2504 21773 843 ...\n",
      " $ quantity        : int  10 20 12 18 5 10 6 6 10 2 ...\n",
      " $ item_code       : int  854 246 1420 1963 1786 2854 246 1842 1767 410 ...\n",
      " $ item_total_price: num  292.9 287.2 184.8 189.2 66.9 ...\n",
      " $ unit_price      : num  25 12.3 12.8 10.5 11.8 ...\n",
      " $ group_code      : int  0 0 0 0 0 0 0 0 0 0 ...\n",
      " $ segment_code    : int  0 5 0 0 0 0 0 0 0 0 ...\n",
      " $ is_churn        : chr  \"0\" \"0\" \"0\" \"0\" ...\n",
      " - attr(*, \".internal.selfref\")=<externalptr> \n"
     ]
    }
   ],
   "source": [
    "data = as.data.table(read_json(\"./challenge.json\",simplifyVector = T))\n",
    "\n",
    "# check columns type\n",
    "str(data)"
   ]
  },
  {
   "cell_type": "markdown",
   "metadata": {},
   "source": [
    "I removed the time part of the string since there is no relevant information about it (it is the same for all values) and so I keep just the date part, convert to a proper date class to speedy up the processing time using optimized date functions and filters."
   ]
  },
  {
   "cell_type": "code",
   "execution_count": 3,
   "metadata": {},
   "outputs": [
    {
     "data": {},
     "metadata": {},
     "output_type": "display_data"
    }
   ],
   "source": [
    "data[, register_date := as.Date(substr(register_date,1,10), format = \"%Y-%m-%d\")]\n",
    "\n",
    "#Set row order to easy visualization\n",
    "setorder(data,customer_code, register_date)"
   ]
  },
  {
   "cell_type": "markdown",
   "metadata": {},
   "source": [
    "It is always a good idea to summarize the data in order to understand some overall aspects of it, for example: Above we can see that the field branch_id has only one value (because the minimum is equal to the maximum), and also there are probably some outliers within the data since there is a huge value of items sold (quantity) and total_price, away far off the 3rd quantile."
   ]
  },
  {
   "cell_type": "code",
   "execution_count": 4,
   "metadata": {},
   "outputs": [
    {
     "data": {
      "text/plain": [
       " customer_code     branch_id sales_channel      seller_code   \n",
       " Min.   :  0.0   Min.   :0   Min.   :  0.000   Min.   :  0.0  \n",
       " 1st Qu.:221.0   1st Qu.:0   1st Qu.:  0.000   1st Qu.: 83.0  \n",
       " Median :486.0   Median :0   Median :  0.000   Median :156.0  \n",
       " Mean   :447.5   Mean   :0   Mean   :  1.761   Mean   :145.5  \n",
       " 3rd Qu.:651.0   3rd Qu.:0   3rd Qu.:  2.000   3rd Qu.:195.0  \n",
       " Max.   :837.0   Max.   :0   Max.   :105.000   Max.   :289.0  \n",
       " register_date         total_price        order_id        quantity      \n",
       " Min.   :2008-01-04   Min.   :     0   Min.   :    0   Min.   :   1.00  \n",
       " 1st Qu.:2011-10-28   1st Qu.:  1180   1st Qu.: 6498   1st Qu.:   3.00  \n",
       " Median :2014-07-22   Median :  2036   Median :12698   Median :   6.00  \n",
       " Mean   :2014-03-15   Mean   :  5337   Mean   :12434   Mean   :  12.33  \n",
       " 3rd Qu.:2016-11-21   3rd Qu.:  3611   3rd Qu.:18280   3rd Qu.:  12.00  \n",
       " Max.   :2018-07-08   Max.   :428976   Max.   :24617   Max.   :7000.00  \n",
       "   item_code    item_total_price     unit_price         group_code    \n",
       " Min.   :   0   Min.   :     0.0   Min.   :    0.01   Min.   :0.0000  \n",
       " 1st Qu.: 631   1st Qu.:    79.6   1st Qu.:   14.67   1st Qu.:0.0000  \n",
       " Median :1455   Median :   156.2   Median :   21.78   Median :0.0000  \n",
       " Mean   :1437   Mean   :   304.1   Mean   :   47.46   Mean   :0.3072  \n",
       " 3rd Qu.:2048   3rd Qu.:   293.9   3rd Qu.:   46.72   3rd Qu.:0.0000  \n",
       " Max.   :2980   Max.   :102951.1   Max.   :26280.00   Max.   :3.0000  \n",
       "  segment_code      is_churn        \n",
       " Min.   :0.0000   Length:204428     \n",
       " 1st Qu.:0.0000   Class :character  \n",
       " Median :0.0000   Mode  :character  \n",
       " Mean   :0.8464                     \n",
       " 3rd Qu.:2.0000                     \n",
       " Max.   :7.0000                     "
      ]
     },
     "metadata": {},
     "output_type": "display_data"
    },
    {
     "data": {},
     "metadata": {},
     "output_type": "display_data"
    }
   ],
   "source": [
    "summary(data)\n",
    "\n",
    "# drop branch_id once it is irrelevant to the studied\n",
    "data[, branch_id := NULL]"
   ]
  },
  {
   "cell_type": "markdown",
   "metadata": {},
   "source": [
    "Given a quick look over the data it is possible to see that some values are incorrect, such as the item_total_price, that should be $quantity \\times unit\\_price$ but $12 \\times 9.06$ (taking the first row) should be $108.72$ instead of the current value of $135.35$"
   ]
  },
  {
   "cell_type": "code",
   "execution_count": 5,
   "metadata": {},
   "outputs": [
    {
     "data": {
      "text/html": [
       "<table>\n",
       "<thead><tr><th scope=col>customer_code</th><th scope=col>sales_channel</th><th scope=col>seller_code</th><th scope=col>register_date</th><th scope=col>total_price</th><th scope=col>order_id</th><th scope=col>quantity</th><th scope=col>item_code</th><th scope=col>item_total_price</th><th scope=col>unit_price</th><th scope=col>group_code</th><th scope=col>segment_code</th><th scope=col>is_churn</th></tr></thead>\n",
       "<tbody>\n",
       "\t<tr><td>0         </td><td>8         </td><td>153       </td><td>2008-09-23</td><td>4721.62   </td><td>967       </td><td>12        </td><td> 356      </td><td> 135.35   </td><td> 9.06     </td><td>0         </td><td>0         </td><td>0         </td></tr>\n",
       "\t<tr><td>0         </td><td>8         </td><td>153       </td><td>2008-09-23</td><td>4721.62   </td><td>967       </td><td>24        </td><td> 357      </td><td> 389.01   </td><td>13.02     </td><td>0         </td><td>0         </td><td>0         </td></tr>\n",
       "\t<tr><td>0         </td><td>8         </td><td>153       </td><td>2008-09-23</td><td>4721.62   </td><td>967       </td><td>12        </td><td> 719      </td><td> 291.91   </td><td>19.54     </td><td>0         </td><td>0         </td><td>0         </td></tr>\n",
       "\t<tr><td>0         </td><td>8         </td><td>153       </td><td>2008-09-23</td><td>4721.62   </td><td>967       </td><td>12        </td><td> 721      </td><td> 627.15   </td><td>41.98     </td><td>0         </td><td>0         </td><td>0         </td></tr>\n",
       "\t<tr><td>0         </td><td>8         </td><td>153       </td><td>2008-09-23</td><td>4721.62   </td><td>967       </td><td>12        </td><td> 722      </td><td>1063.67   </td><td>71.20     </td><td>0         </td><td>0         </td><td>0         </td></tr>\n",
       "\t<tr><td>0         </td><td>8         </td><td>153       </td><td>2008-09-23</td><td>4721.62   </td><td>967       </td><td>12        </td><td>1956      </td><td> 187.19   </td><td>12.53     </td><td>0         </td><td>0         </td><td>0         </td></tr>\n",
       "\t<tr><td>0         </td><td>8         </td><td>153       </td><td>2008-09-23</td><td>4721.62   </td><td>967       </td><td>12        </td><td>1957      </td><td> 195.85   </td><td>13.11     </td><td>0         </td><td>0         </td><td>0         </td></tr>\n",
       "\t<tr><td>0         </td><td>8         </td><td>153       </td><td>2008-09-23</td><td>4721.62   </td><td>967       </td><td> 6        </td><td>1958      </td><td> 144.91   </td><td>19.40     </td><td>0         </td><td>0         </td><td>0         </td></tr>\n",
       "\t<tr><td>0         </td><td>8         </td><td>153       </td><td>2008-09-23</td><td>4721.62   </td><td>967       </td><td> 6        </td><td>1960      </td><td> 234.25   </td><td>31.36     </td><td>0         </td><td>0         </td><td>0         </td></tr>\n",
       "\t<tr><td>0         </td><td>8         </td><td>153       </td><td>2008-09-23</td><td>4721.62   </td><td>967       </td><td> 6        </td><td>1961      </td><td> 360.85   </td><td>48.31     </td><td>0         </td><td>0         </td><td>0         </td></tr>\n",
       "\t<tr><td>0         </td><td>8         </td><td>153       </td><td>2008-09-23</td><td>4721.62   </td><td>967       </td><td>12        </td><td>2843      </td><td> 124.50   </td><td> 8.46     </td><td>0         </td><td>0         </td><td>0         </td></tr>\n",
       "\t<tr><td>0         </td><td>8         </td><td>153       </td><td>2008-09-23</td><td>4721.62   </td><td>967       </td><td>12        </td><td>2844      </td><td> 201.03   </td><td>13.66     </td><td>0         </td><td>0         </td><td>0         </td></tr>\n",
       "\t<tr><td>0         </td><td>8         </td><td>153       </td><td>2008-09-23</td><td>4721.62   </td><td>967       </td><td>12        </td><td>2846      </td><td> 348.19   </td><td>23.66     </td><td>0         </td><td>0         </td><td>0         </td></tr>\n",
       "\t<tr><td>0         </td><td>8         </td><td>153       </td><td>2008-09-23</td><td>4721.62   </td><td>967       </td><td>12        </td><td>2847      </td><td> 530.06   </td><td>36.02     </td><td>0         </td><td>0         </td><td>0         </td></tr>\n",
       "\t<tr><td>0         </td><td>8         </td><td>153       </td><td>2008-09-23</td><td>4721.62   </td><td>967       </td><td>12        </td><td>2861      </td><td> 315.50   </td><td>21.44     </td><td>0         </td><td>0         </td><td>0         </td></tr>\n",
       "\t<tr><td>0         </td><td>8         </td><td>153       </td><td>2008-09-23</td><td>4721.62   </td><td>967       </td><td> 6        </td><td>2863      </td><td> 311.09   </td><td>42.28     </td><td>0         </td><td>0         </td><td>0         </td></tr>\n",
       "\t<tr><td>0         </td><td>8         </td><td>153       </td><td>2008-09-23</td><td>4721.62   </td><td>967       </td><td> 4        </td><td>2864      </td><td> 220.25   </td><td>44.90     </td><td>0         </td><td>0         </td><td>0         </td></tr>\n",
       "\t<tr><td>0         </td><td>8         </td><td>153       </td><td>2008-09-23</td><td>4721.62   </td><td>967       </td><td> 2        </td><td>2865      </td><td> 163.74   </td><td>66.76     </td><td>0         </td><td>0         </td><td>0         </td></tr>\n",
       "</tbody>\n",
       "</table>\n"
      ],
      "text/latex": [
       "\\begin{tabular}{r|lllllllllllll}\n",
       " customer\\_code & sales\\_channel & seller\\_code & register\\_date & total\\_price & order\\_id & quantity & item\\_code & item\\_total\\_price & unit\\_price & group\\_code & segment\\_code & is\\_churn\\\\\n",
       "\\hline\n",
       "\t 0          & 8          & 153        & 2008-09-23 & 4721.62    & 967        & 12         &  356       &  135.35    &  9.06      & 0          & 0          & 0         \\\\\n",
       "\t 0          & 8          & 153        & 2008-09-23 & 4721.62    & 967        & 24         &  357       &  389.01    & 13.02      & 0          & 0          & 0         \\\\\n",
       "\t 0          & 8          & 153        & 2008-09-23 & 4721.62    & 967        & 12         &  719       &  291.91    & 19.54      & 0          & 0          & 0         \\\\\n",
       "\t 0          & 8          & 153        & 2008-09-23 & 4721.62    & 967        & 12         &  721       &  627.15    & 41.98      & 0          & 0          & 0         \\\\\n",
       "\t 0          & 8          & 153        & 2008-09-23 & 4721.62    & 967        & 12         &  722       & 1063.67    & 71.20      & 0          & 0          & 0         \\\\\n",
       "\t 0          & 8          & 153        & 2008-09-23 & 4721.62    & 967        & 12         & 1956       &  187.19    & 12.53      & 0          & 0          & 0         \\\\\n",
       "\t 0          & 8          & 153        & 2008-09-23 & 4721.62    & 967        & 12         & 1957       &  195.85    & 13.11      & 0          & 0          & 0         \\\\\n",
       "\t 0          & 8          & 153        & 2008-09-23 & 4721.62    & 967        &  6         & 1958       &  144.91    & 19.40      & 0          & 0          & 0         \\\\\n",
       "\t 0          & 8          & 153        & 2008-09-23 & 4721.62    & 967        &  6         & 1960       &  234.25    & 31.36      & 0          & 0          & 0         \\\\\n",
       "\t 0          & 8          & 153        & 2008-09-23 & 4721.62    & 967        &  6         & 1961       &  360.85    & 48.31      & 0          & 0          & 0         \\\\\n",
       "\t 0          & 8          & 153        & 2008-09-23 & 4721.62    & 967        & 12         & 2843       &  124.50    &  8.46      & 0          & 0          & 0         \\\\\n",
       "\t 0          & 8          & 153        & 2008-09-23 & 4721.62    & 967        & 12         & 2844       &  201.03    & 13.66      & 0          & 0          & 0         \\\\\n",
       "\t 0          & 8          & 153        & 2008-09-23 & 4721.62    & 967        & 12         & 2846       &  348.19    & 23.66      & 0          & 0          & 0         \\\\\n",
       "\t 0          & 8          & 153        & 2008-09-23 & 4721.62    & 967        & 12         & 2847       &  530.06    & 36.02      & 0          & 0          & 0         \\\\\n",
       "\t 0          & 8          & 153        & 2008-09-23 & 4721.62    & 967        & 12         & 2861       &  315.50    & 21.44      & 0          & 0          & 0         \\\\\n",
       "\t 0          & 8          & 153        & 2008-09-23 & 4721.62    & 967        &  6         & 2863       &  311.09    & 42.28      & 0          & 0          & 0         \\\\\n",
       "\t 0          & 8          & 153        & 2008-09-23 & 4721.62    & 967        &  4         & 2864       &  220.25    & 44.90      & 0          & 0          & 0         \\\\\n",
       "\t 0          & 8          & 153        & 2008-09-23 & 4721.62    & 967        &  2         & 2865       &  163.74    & 66.76      & 0          & 0          & 0         \\\\\n",
       "\\end{tabular}\n"
      ],
      "text/markdown": [
       "\n",
       "customer_code | sales_channel | seller_code | register_date | total_price | order_id | quantity | item_code | item_total_price | unit_price | group_code | segment_code | is_churn | \n",
       "|---|---|---|---|---|---|---|---|---|---|---|---|---|---|---|---|---|---|\n",
       "| 0          | 8          | 153        | 2008-09-23 | 4721.62    | 967        | 12         |  356       |  135.35    |  9.06      | 0          | 0          | 0          | \n",
       "| 0          | 8          | 153        | 2008-09-23 | 4721.62    | 967        | 24         |  357       |  389.01    | 13.02      | 0          | 0          | 0          | \n",
       "| 0          | 8          | 153        | 2008-09-23 | 4721.62    | 967        | 12         |  719       |  291.91    | 19.54      | 0          | 0          | 0          | \n",
       "| 0          | 8          | 153        | 2008-09-23 | 4721.62    | 967        | 12         |  721       |  627.15    | 41.98      | 0          | 0          | 0          | \n",
       "| 0          | 8          | 153        | 2008-09-23 | 4721.62    | 967        | 12         |  722       | 1063.67    | 71.20      | 0          | 0          | 0          | \n",
       "| 0          | 8          | 153        | 2008-09-23 | 4721.62    | 967        | 12         | 1956       |  187.19    | 12.53      | 0          | 0          | 0          | \n",
       "| 0          | 8          | 153        | 2008-09-23 | 4721.62    | 967        | 12         | 1957       |  195.85    | 13.11      | 0          | 0          | 0          | \n",
       "| 0          | 8          | 153        | 2008-09-23 | 4721.62    | 967        |  6         | 1958       |  144.91    | 19.40      | 0          | 0          | 0          | \n",
       "| 0          | 8          | 153        | 2008-09-23 | 4721.62    | 967        |  6         | 1960       |  234.25    | 31.36      | 0          | 0          | 0          | \n",
       "| 0          | 8          | 153        | 2008-09-23 | 4721.62    | 967        |  6         | 1961       |  360.85    | 48.31      | 0          | 0          | 0          | \n",
       "| 0          | 8          | 153        | 2008-09-23 | 4721.62    | 967        | 12         | 2843       |  124.50    |  8.46      | 0          | 0          | 0          | \n",
       "| 0          | 8          | 153        | 2008-09-23 | 4721.62    | 967        | 12         | 2844       |  201.03    | 13.66      | 0          | 0          | 0          | \n",
       "| 0          | 8          | 153        | 2008-09-23 | 4721.62    | 967        | 12         | 2846       |  348.19    | 23.66      | 0          | 0          | 0          | \n",
       "| 0          | 8          | 153        | 2008-09-23 | 4721.62    | 967        | 12         | 2847       |  530.06    | 36.02      | 0          | 0          | 0          | \n",
       "| 0          | 8          | 153        | 2008-09-23 | 4721.62    | 967        | 12         | 2861       |  315.50    | 21.44      | 0          | 0          | 0          | \n",
       "| 0          | 8          | 153        | 2008-09-23 | 4721.62    | 967        |  6         | 2863       |  311.09    | 42.28      | 0          | 0          | 0          | \n",
       "| 0          | 8          | 153        | 2008-09-23 | 4721.62    | 967        |  4         | 2864       |  220.25    | 44.90      | 0          | 0          | 0          | \n",
       "| 0          | 8          | 153        | 2008-09-23 | 4721.62    | 967        |  2         | 2865       |  163.74    | 66.76      | 0          | 0          | 0          | \n",
       "\n",
       "\n"
      ],
      "text/plain": [
       "   customer_code sales_channel seller_code register_date total_price order_id\n",
       "1  0             8             153         2008-09-23    4721.62     967     \n",
       "2  0             8             153         2008-09-23    4721.62     967     \n",
       "3  0             8             153         2008-09-23    4721.62     967     \n",
       "4  0             8             153         2008-09-23    4721.62     967     \n",
       "5  0             8             153         2008-09-23    4721.62     967     \n",
       "6  0             8             153         2008-09-23    4721.62     967     \n",
       "7  0             8             153         2008-09-23    4721.62     967     \n",
       "8  0             8             153         2008-09-23    4721.62     967     \n",
       "9  0             8             153         2008-09-23    4721.62     967     \n",
       "10 0             8             153         2008-09-23    4721.62     967     \n",
       "11 0             8             153         2008-09-23    4721.62     967     \n",
       "12 0             8             153         2008-09-23    4721.62     967     \n",
       "13 0             8             153         2008-09-23    4721.62     967     \n",
       "14 0             8             153         2008-09-23    4721.62     967     \n",
       "15 0             8             153         2008-09-23    4721.62     967     \n",
       "16 0             8             153         2008-09-23    4721.62     967     \n",
       "17 0             8             153         2008-09-23    4721.62     967     \n",
       "18 0             8             153         2008-09-23    4721.62     967     \n",
       "   quantity item_code item_total_price unit_price group_code segment_code\n",
       "1  12        356       135.35           9.06      0          0           \n",
       "2  24        357       389.01          13.02      0          0           \n",
       "3  12        719       291.91          19.54      0          0           \n",
       "4  12        721       627.15          41.98      0          0           \n",
       "5  12        722      1063.67          71.20      0          0           \n",
       "6  12       1956       187.19          12.53      0          0           \n",
       "7  12       1957       195.85          13.11      0          0           \n",
       "8   6       1958       144.91          19.40      0          0           \n",
       "9   6       1960       234.25          31.36      0          0           \n",
       "10  6       1961       360.85          48.31      0          0           \n",
       "11 12       2843       124.50           8.46      0          0           \n",
       "12 12       2844       201.03          13.66      0          0           \n",
       "13 12       2846       348.19          23.66      0          0           \n",
       "14 12       2847       530.06          36.02      0          0           \n",
       "15 12       2861       315.50          21.44      0          0           \n",
       "16  6       2863       311.09          42.28      0          0           \n",
       "17  4       2864       220.25          44.90      0          0           \n",
       "18  2       2865       163.74          66.76      0          0           \n",
       "   is_churn\n",
       "1  0       \n",
       "2  0       \n",
       "3  0       \n",
       "4  0       \n",
       "5  0       \n",
       "6  0       \n",
       "7  0       \n",
       "8  0       \n",
       "9  0       \n",
       "10 0       \n",
       "11 0       \n",
       "12 0       \n",
       "13 0       \n",
       "14 0       \n",
       "15 0       \n",
       "16 0       \n",
       "17 0       \n",
       "18 0       "
      ]
     },
     "metadata": {},
     "output_type": "display_data"
    }
   ],
   "source": [
    "data[customer_code == '0' & register_date == '2008-09-23'][order(item_code)]"
   ]
  },
  {
   "cell_type": "markdown",
   "metadata": {},
   "source": [
    "Another problem with this dataset is that some items, such as $934$ below, were not aggregated and so there is unnecessary rows repetition, in order $15469$ for instance."
   ]
  },
  {
   "cell_type": "code",
   "execution_count": 6,
   "metadata": {},
   "outputs": [
    {
     "data": {
      "text/html": [
       "<table>\n",
       "<thead><tr><th scope=col>customer_code</th><th scope=col>sales_channel</th><th scope=col>seller_code</th><th scope=col>register_date</th><th scope=col>total_price</th><th scope=col>order_id</th><th scope=col>quantity</th><th scope=col>item_code</th><th scope=col>item_total_price</th><th scope=col>unit_price</th><th scope=col>group_code</th><th scope=col>segment_code</th><th scope=col>is_churn</th></tr></thead>\n",
       "<tbody>\n",
       "\t<tr><td>158       </td><td>0         </td><td>50        </td><td>2015-10-04</td><td>47.14     </td><td>15469     </td><td>6         </td><td> 465      </td><td>1.73      </td><td>0.25      </td><td>0         </td><td>0         </td><td>0         </td></tr>\n",
       "\t<tr><td>158       </td><td>0         </td><td>50        </td><td>2015-10-04</td><td>47.14     </td><td>15469     </td><td>1         </td><td> 934      </td><td>1.14      </td><td>0.99      </td><td>0         </td><td>0         </td><td>0         </td></tr>\n",
       "\t<tr><td>158       </td><td>0         </td><td>50        </td><td>2015-10-04</td><td>47.14     </td><td>15469     </td><td>1         </td><td> 934      </td><td>1.14      </td><td>0.99      </td><td>0         </td><td>0         </td><td>0         </td></tr>\n",
       "\t<tr><td>158       </td><td>0         </td><td>50        </td><td>2015-10-04</td><td>47.14     </td><td>15469     </td><td>1         </td><td> 934      </td><td>1.14      </td><td>0.99      </td><td>0         </td><td>0         </td><td>0         </td></tr>\n",
       "\t<tr><td>158       </td><td>0         </td><td>50        </td><td>2015-10-04</td><td>47.14     </td><td>15469     </td><td>1         </td><td> 934      </td><td>1.14      </td><td>0.99      </td><td>0         </td><td>0         </td><td>0         </td></tr>\n",
       "\t<tr><td>158       </td><td>0         </td><td>50        </td><td>2015-10-04</td><td>47.14     </td><td>15469     </td><td>1         </td><td> 934      </td><td>1.14      </td><td>0.99      </td><td>0         </td><td>0         </td><td>0         </td></tr>\n",
       "\t<tr><td>158       </td><td>0         </td><td>50        </td><td>2015-10-04</td><td>47.14     </td><td>15469     </td><td>4         </td><td>1864      </td><td>0.83      </td><td>0.18      </td><td>0         </td><td>0         </td><td>0         </td></tr>\n",
       "\t<tr><td>158       </td><td>0         </td><td>50        </td><td>2015-10-04</td><td>47.14     </td><td>15469     </td><td>2         </td><td>1866      </td><td>2.81      </td><td>1.22      </td><td>0         </td><td>0         </td><td>0         </td></tr>\n",
       "\t<tr><td>158       </td><td>0         </td><td>50        </td><td>2015-10-04</td><td>47.14     </td><td>15469     </td><td>1         </td><td>1866      </td><td>1.40      </td><td>1.22      </td><td>0         </td><td>0         </td><td>0         </td></tr>\n",
       "\t<tr><td>158       </td><td>0         </td><td>50        </td><td>2015-10-04</td><td>47.14     </td><td>15469     </td><td>1         </td><td>1866      </td><td>1.40      </td><td>1.22      </td><td>0         </td><td>0         </td><td>0         </td></tr>\n",
       "\t<tr><td>158       </td><td>0         </td><td>50        </td><td>2015-10-04</td><td>47.14     </td><td>15469     </td><td>1         </td><td>1866      </td><td>1.40      </td><td>1.22      </td><td>0         </td><td>0         </td><td>0         </td></tr>\n",
       "\t<tr><td>158       </td><td>0         </td><td>50        </td><td>2015-10-04</td><td>47.14     </td><td>15469     </td><td>1         </td><td>1871      </td><td>1.17      </td><td>1.02      </td><td>0         </td><td>0         </td><td>0         </td></tr>\n",
       "\t<tr><td>158       </td><td>0         </td><td>50        </td><td>2015-10-04</td><td>47.14     </td><td>15469     </td><td>7         </td><td>1948      </td><td>3.14      </td><td>0.39      </td><td>0         </td><td>0         </td><td>0         </td></tr>\n",
       "\t<tr><td>158       </td><td>0         </td><td>50        </td><td>2015-10-04</td><td>47.14     </td><td>15469     </td><td>1         </td><td>1971      </td><td>2.17      </td><td>1.89      </td><td>0         </td><td>0         </td><td>0         </td></tr>\n",
       "\t<tr><td>158       </td><td>0         </td><td>50        </td><td>2015-10-04</td><td>47.14     </td><td>15469     </td><td>3         </td><td>2076      </td><td>0.38      </td><td>0.11      </td><td>0         </td><td>0         </td><td>0         </td></tr>\n",
       "\t<tr><td>158       </td><td>0         </td><td>50        </td><td>2015-10-04</td><td>47.14     </td><td>15469     </td><td>1         </td><td>2263      </td><td>1.82      </td><td>1.58      </td><td>0         </td><td>0         </td><td>0         </td></tr>\n",
       "\t<tr><td>158       </td><td>0         </td><td>50        </td><td>2015-10-04</td><td>47.14     </td><td>15469     </td><td>1         </td><td>2263      </td><td>1.82      </td><td>1.58      </td><td>0         </td><td>0         </td><td>0         </td></tr>\n",
       "\t<tr><td>158       </td><td>0         </td><td>50        </td><td>2015-10-04</td><td>47.14     </td><td>15469     </td><td>1         </td><td>2264      </td><td>0.23      </td><td>0.23      </td><td>0         </td><td>0         </td><td>0         </td></tr>\n",
       "\t<tr><td>158       </td><td>0         </td><td>50        </td><td>2015-10-04</td><td>47.14     </td><td>15469     </td><td>2         </td><td>2341      </td><td>1.10      </td><td>0.48      </td><td>0         </td><td>0         </td><td>0         </td></tr>\n",
       "\t<tr><td>158       </td><td>0         </td><td>50        </td><td>2015-10-04</td><td>47.14     </td><td>15469     </td><td>2         </td><td>2396      </td><td>4.35      </td><td>1.89      </td><td>0         </td><td>0         </td><td>0         </td></tr>\n",
       "\t<tr><td>158       </td><td>0         </td><td>50        </td><td>2015-10-04</td><td>47.14     </td><td>15469     </td><td>2         </td><td>2399      </td><td>0.72      </td><td>0.36      </td><td>0         </td><td>0         </td><td>0         </td></tr>\n",
       "\t<tr><td>158       </td><td>0         </td><td>50        </td><td>2015-10-04</td><td>47.14     </td><td>15469     </td><td>1         </td><td>2412      </td><td>0.45      </td><td>0.45      </td><td>0         </td><td>0         </td><td>0         </td></tr>\n",
       "\t<tr><td>158       </td><td>0         </td><td>50        </td><td>2015-10-04</td><td>47.14     </td><td>15469     </td><td>1         </td><td>2413      </td><td>2.66      </td><td>2.31      </td><td>0         </td><td>0         </td><td>0         </td></tr>\n",
       "\t<tr><td>158       </td><td>0         </td><td>50        </td><td>2015-10-04</td><td>47.14     </td><td>15469     </td><td>2         </td><td>2428      </td><td>6.00      </td><td>2.61      </td><td>0         </td><td>0         </td><td>0         </td></tr>\n",
       "\t<tr><td>158       </td><td>0         </td><td>50        </td><td>2015-10-04</td><td>47.14     </td><td>15469     </td><td>2         </td><td>2429      </td><td>1.24      </td><td>0.62      </td><td>0         </td><td>0         </td><td>0         </td></tr>\n",
       "\t<tr><td>158       </td><td>0         </td><td>50        </td><td>2015-10-04</td><td>47.14     </td><td>15469     </td><td>1         </td><td>2445      </td><td>0.53      </td><td>0.53      </td><td>0         </td><td>0         </td><td>0         </td></tr>\n",
       "\t<tr><td>158       </td><td>0         </td><td>50        </td><td>2015-10-04</td><td>47.14     </td><td>15469     </td><td>1         </td><td>2453      </td><td>2.12      </td><td>1.84      </td><td>0         </td><td>0         </td><td>0         </td></tr>\n",
       "\t<tr><td>158       </td><td>0         </td><td>50        </td><td>2015-10-04</td><td>47.14     </td><td>15469     </td><td>1         </td><td>2454      </td><td>0.52      </td><td>0.52      </td><td>0         </td><td>0         </td><td>0         </td></tr>\n",
       "\t<tr><td>158       </td><td>0         </td><td>50        </td><td>2015-10-04</td><td>47.14     </td><td>15469     </td><td>1         </td><td>2616      </td><td>3.69      </td><td>3.21      </td><td>0         </td><td>0         </td><td>0         </td></tr>\n",
       "\t<tr><td>158       </td><td>0         </td><td>50        </td><td>2015-10-04</td><td>47.14     </td><td>15469     </td><td>1         </td><td>2617      </td><td>0.31      </td><td>0.31      </td><td>0         </td><td>0         </td><td>0         </td></tr>\n",
       "\t<tr><td>158       </td><td>0         </td><td>50        </td><td>2015-10-04</td><td>47.14     </td><td>15469     </td><td>2         </td><td>2679      </td><td>3.93      </td><td>1.71      </td><td>0         </td><td>0         </td><td>0         </td></tr>\n",
       "</tbody>\n",
       "</table>\n"
      ],
      "text/latex": [
       "\\begin{tabular}{r|lllllllllllll}\n",
       " customer\\_code & sales\\_channel & seller\\_code & register\\_date & total\\_price & order\\_id & quantity & item\\_code & item\\_total\\_price & unit\\_price & group\\_code & segment\\_code & is\\_churn\\\\\n",
       "\\hline\n",
       "\t 158        & 0          & 50         & 2015-10-04 & 47.14      & 15469      & 6          &  465       & 1.73       & 0.25       & 0          & 0          & 0         \\\\\n",
       "\t 158        & 0          & 50         & 2015-10-04 & 47.14      & 15469      & 1          &  934       & 1.14       & 0.99       & 0          & 0          & 0         \\\\\n",
       "\t 158        & 0          & 50         & 2015-10-04 & 47.14      & 15469      & 1          &  934       & 1.14       & 0.99       & 0          & 0          & 0         \\\\\n",
       "\t 158        & 0          & 50         & 2015-10-04 & 47.14      & 15469      & 1          &  934       & 1.14       & 0.99       & 0          & 0          & 0         \\\\\n",
       "\t 158        & 0          & 50         & 2015-10-04 & 47.14      & 15469      & 1          &  934       & 1.14       & 0.99       & 0          & 0          & 0         \\\\\n",
       "\t 158        & 0          & 50         & 2015-10-04 & 47.14      & 15469      & 1          &  934       & 1.14       & 0.99       & 0          & 0          & 0         \\\\\n",
       "\t 158        & 0          & 50         & 2015-10-04 & 47.14      & 15469      & 4          & 1864       & 0.83       & 0.18       & 0          & 0          & 0         \\\\\n",
       "\t 158        & 0          & 50         & 2015-10-04 & 47.14      & 15469      & 2          & 1866       & 2.81       & 1.22       & 0          & 0          & 0         \\\\\n",
       "\t 158        & 0          & 50         & 2015-10-04 & 47.14      & 15469      & 1          & 1866       & 1.40       & 1.22       & 0          & 0          & 0         \\\\\n",
       "\t 158        & 0          & 50         & 2015-10-04 & 47.14      & 15469      & 1          & 1866       & 1.40       & 1.22       & 0          & 0          & 0         \\\\\n",
       "\t 158        & 0          & 50         & 2015-10-04 & 47.14      & 15469      & 1          & 1866       & 1.40       & 1.22       & 0          & 0          & 0         \\\\\n",
       "\t 158        & 0          & 50         & 2015-10-04 & 47.14      & 15469      & 1          & 1871       & 1.17       & 1.02       & 0          & 0          & 0         \\\\\n",
       "\t 158        & 0          & 50         & 2015-10-04 & 47.14      & 15469      & 7          & 1948       & 3.14       & 0.39       & 0          & 0          & 0         \\\\\n",
       "\t 158        & 0          & 50         & 2015-10-04 & 47.14      & 15469      & 1          & 1971       & 2.17       & 1.89       & 0          & 0          & 0         \\\\\n",
       "\t 158        & 0          & 50         & 2015-10-04 & 47.14      & 15469      & 3          & 2076       & 0.38       & 0.11       & 0          & 0          & 0         \\\\\n",
       "\t 158        & 0          & 50         & 2015-10-04 & 47.14      & 15469      & 1          & 2263       & 1.82       & 1.58       & 0          & 0          & 0         \\\\\n",
       "\t 158        & 0          & 50         & 2015-10-04 & 47.14      & 15469      & 1          & 2263       & 1.82       & 1.58       & 0          & 0          & 0         \\\\\n",
       "\t 158        & 0          & 50         & 2015-10-04 & 47.14      & 15469      & 1          & 2264       & 0.23       & 0.23       & 0          & 0          & 0         \\\\\n",
       "\t 158        & 0          & 50         & 2015-10-04 & 47.14      & 15469      & 2          & 2341       & 1.10       & 0.48       & 0          & 0          & 0         \\\\\n",
       "\t 158        & 0          & 50         & 2015-10-04 & 47.14      & 15469      & 2          & 2396       & 4.35       & 1.89       & 0          & 0          & 0         \\\\\n",
       "\t 158        & 0          & 50         & 2015-10-04 & 47.14      & 15469      & 2          & 2399       & 0.72       & 0.36       & 0          & 0          & 0         \\\\\n",
       "\t 158        & 0          & 50         & 2015-10-04 & 47.14      & 15469      & 1          & 2412       & 0.45       & 0.45       & 0          & 0          & 0         \\\\\n",
       "\t 158        & 0          & 50         & 2015-10-04 & 47.14      & 15469      & 1          & 2413       & 2.66       & 2.31       & 0          & 0          & 0         \\\\\n",
       "\t 158        & 0          & 50         & 2015-10-04 & 47.14      & 15469      & 2          & 2428       & 6.00       & 2.61       & 0          & 0          & 0         \\\\\n",
       "\t 158        & 0          & 50         & 2015-10-04 & 47.14      & 15469      & 2          & 2429       & 1.24       & 0.62       & 0          & 0          & 0         \\\\\n",
       "\t 158        & 0          & 50         & 2015-10-04 & 47.14      & 15469      & 1          & 2445       & 0.53       & 0.53       & 0          & 0          & 0         \\\\\n",
       "\t 158        & 0          & 50         & 2015-10-04 & 47.14      & 15469      & 1          & 2453       & 2.12       & 1.84       & 0          & 0          & 0         \\\\\n",
       "\t 158        & 0          & 50         & 2015-10-04 & 47.14      & 15469      & 1          & 2454       & 0.52       & 0.52       & 0          & 0          & 0         \\\\\n",
       "\t 158        & 0          & 50         & 2015-10-04 & 47.14      & 15469      & 1          & 2616       & 3.69       & 3.21       & 0          & 0          & 0         \\\\\n",
       "\t 158        & 0          & 50         & 2015-10-04 & 47.14      & 15469      & 1          & 2617       & 0.31       & 0.31       & 0          & 0          & 0         \\\\\n",
       "\t 158        & 0          & 50         & 2015-10-04 & 47.14      & 15469      & 2          & 2679       & 3.93       & 1.71       & 0          & 0          & 0         \\\\\n",
       "\\end{tabular}\n"
      ],
      "text/markdown": [
       "\n",
       "customer_code | sales_channel | seller_code | register_date | total_price | order_id | quantity | item_code | item_total_price | unit_price | group_code | segment_code | is_churn | \n",
       "|---|---|---|---|---|---|---|---|---|---|---|---|---|---|---|---|---|---|---|---|---|---|---|---|---|---|---|---|---|---|---|\n",
       "| 158        | 0          | 50         | 2015-10-04 | 47.14      | 15469      | 6          |  465       | 1.73       | 0.25       | 0          | 0          | 0          | \n",
       "| 158        | 0          | 50         | 2015-10-04 | 47.14      | 15469      | 1          |  934       | 1.14       | 0.99       | 0          | 0          | 0          | \n",
       "| 158        | 0          | 50         | 2015-10-04 | 47.14      | 15469      | 1          |  934       | 1.14       | 0.99       | 0          | 0          | 0          | \n",
       "| 158        | 0          | 50         | 2015-10-04 | 47.14      | 15469      | 1          |  934       | 1.14       | 0.99       | 0          | 0          | 0          | \n",
       "| 158        | 0          | 50         | 2015-10-04 | 47.14      | 15469      | 1          |  934       | 1.14       | 0.99       | 0          | 0          | 0          | \n",
       "| 158        | 0          | 50         | 2015-10-04 | 47.14      | 15469      | 1          |  934       | 1.14       | 0.99       | 0          | 0          | 0          | \n",
       "| 158        | 0          | 50         | 2015-10-04 | 47.14      | 15469      | 4          | 1864       | 0.83       | 0.18       | 0          | 0          | 0          | \n",
       "| 158        | 0          | 50         | 2015-10-04 | 47.14      | 15469      | 2          | 1866       | 2.81       | 1.22       | 0          | 0          | 0          | \n",
       "| 158        | 0          | 50         | 2015-10-04 | 47.14      | 15469      | 1          | 1866       | 1.40       | 1.22       | 0          | 0          | 0          | \n",
       "| 158        | 0          | 50         | 2015-10-04 | 47.14      | 15469      | 1          | 1866       | 1.40       | 1.22       | 0          | 0          | 0          | \n",
       "| 158        | 0          | 50         | 2015-10-04 | 47.14      | 15469      | 1          | 1866       | 1.40       | 1.22       | 0          | 0          | 0          | \n",
       "| 158        | 0          | 50         | 2015-10-04 | 47.14      | 15469      | 1          | 1871       | 1.17       | 1.02       | 0          | 0          | 0          | \n",
       "| 158        | 0          | 50         | 2015-10-04 | 47.14      | 15469      | 7          | 1948       | 3.14       | 0.39       | 0          | 0          | 0          | \n",
       "| 158        | 0          | 50         | 2015-10-04 | 47.14      | 15469      | 1          | 1971       | 2.17       | 1.89       | 0          | 0          | 0          | \n",
       "| 158        | 0          | 50         | 2015-10-04 | 47.14      | 15469      | 3          | 2076       | 0.38       | 0.11       | 0          | 0          | 0          | \n",
       "| 158        | 0          | 50         | 2015-10-04 | 47.14      | 15469      | 1          | 2263       | 1.82       | 1.58       | 0          | 0          | 0          | \n",
       "| 158        | 0          | 50         | 2015-10-04 | 47.14      | 15469      | 1          | 2263       | 1.82       | 1.58       | 0          | 0          | 0          | \n",
       "| 158        | 0          | 50         | 2015-10-04 | 47.14      | 15469      | 1          | 2264       | 0.23       | 0.23       | 0          | 0          | 0          | \n",
       "| 158        | 0          | 50         | 2015-10-04 | 47.14      | 15469      | 2          | 2341       | 1.10       | 0.48       | 0          | 0          | 0          | \n",
       "| 158        | 0          | 50         | 2015-10-04 | 47.14      | 15469      | 2          | 2396       | 4.35       | 1.89       | 0          | 0          | 0          | \n",
       "| 158        | 0          | 50         | 2015-10-04 | 47.14      | 15469      | 2          | 2399       | 0.72       | 0.36       | 0          | 0          | 0          | \n",
       "| 158        | 0          | 50         | 2015-10-04 | 47.14      | 15469      | 1          | 2412       | 0.45       | 0.45       | 0          | 0          | 0          | \n",
       "| 158        | 0          | 50         | 2015-10-04 | 47.14      | 15469      | 1          | 2413       | 2.66       | 2.31       | 0          | 0          | 0          | \n",
       "| 158        | 0          | 50         | 2015-10-04 | 47.14      | 15469      | 2          | 2428       | 6.00       | 2.61       | 0          | 0          | 0          | \n",
       "| 158        | 0          | 50         | 2015-10-04 | 47.14      | 15469      | 2          | 2429       | 1.24       | 0.62       | 0          | 0          | 0          | \n",
       "| 158        | 0          | 50         | 2015-10-04 | 47.14      | 15469      | 1          | 2445       | 0.53       | 0.53       | 0          | 0          | 0          | \n",
       "| 158        | 0          | 50         | 2015-10-04 | 47.14      | 15469      | 1          | 2453       | 2.12       | 1.84       | 0          | 0          | 0          | \n",
       "| 158        | 0          | 50         | 2015-10-04 | 47.14      | 15469      | 1          | 2454       | 0.52       | 0.52       | 0          | 0          | 0          | \n",
       "| 158        | 0          | 50         | 2015-10-04 | 47.14      | 15469      | 1          | 2616       | 3.69       | 3.21       | 0          | 0          | 0          | \n",
       "| 158        | 0          | 50         | 2015-10-04 | 47.14      | 15469      | 1          | 2617       | 0.31       | 0.31       | 0          | 0          | 0          | \n",
       "| 158        | 0          | 50         | 2015-10-04 | 47.14      | 15469      | 2          | 2679       | 3.93       | 1.71       | 0          | 0          | 0          | \n",
       "\n",
       "\n"
      ],
      "text/plain": [
       "   customer_code sales_channel seller_code register_date total_price order_id\n",
       "1  158           0             50          2015-10-04    47.14       15469   \n",
       "2  158           0             50          2015-10-04    47.14       15469   \n",
       "3  158           0             50          2015-10-04    47.14       15469   \n",
       "4  158           0             50          2015-10-04    47.14       15469   \n",
       "5  158           0             50          2015-10-04    47.14       15469   \n",
       "6  158           0             50          2015-10-04    47.14       15469   \n",
       "7  158           0             50          2015-10-04    47.14       15469   \n",
       "8  158           0             50          2015-10-04    47.14       15469   \n",
       "9  158           0             50          2015-10-04    47.14       15469   \n",
       "10 158           0             50          2015-10-04    47.14       15469   \n",
       "11 158           0             50          2015-10-04    47.14       15469   \n",
       "12 158           0             50          2015-10-04    47.14       15469   \n",
       "13 158           0             50          2015-10-04    47.14       15469   \n",
       "14 158           0             50          2015-10-04    47.14       15469   \n",
       "15 158           0             50          2015-10-04    47.14       15469   \n",
       "16 158           0             50          2015-10-04    47.14       15469   \n",
       "17 158           0             50          2015-10-04    47.14       15469   \n",
       "18 158           0             50          2015-10-04    47.14       15469   \n",
       "19 158           0             50          2015-10-04    47.14       15469   \n",
       "20 158           0             50          2015-10-04    47.14       15469   \n",
       "21 158           0             50          2015-10-04    47.14       15469   \n",
       "22 158           0             50          2015-10-04    47.14       15469   \n",
       "23 158           0             50          2015-10-04    47.14       15469   \n",
       "24 158           0             50          2015-10-04    47.14       15469   \n",
       "25 158           0             50          2015-10-04    47.14       15469   \n",
       "26 158           0             50          2015-10-04    47.14       15469   \n",
       "27 158           0             50          2015-10-04    47.14       15469   \n",
       "28 158           0             50          2015-10-04    47.14       15469   \n",
       "29 158           0             50          2015-10-04    47.14       15469   \n",
       "30 158           0             50          2015-10-04    47.14       15469   \n",
       "31 158           0             50          2015-10-04    47.14       15469   \n",
       "   quantity item_code item_total_price unit_price group_code segment_code\n",
       "1  6         465      1.73             0.25       0          0           \n",
       "2  1         934      1.14             0.99       0          0           \n",
       "3  1         934      1.14             0.99       0          0           \n",
       "4  1         934      1.14             0.99       0          0           \n",
       "5  1         934      1.14             0.99       0          0           \n",
       "6  1         934      1.14             0.99       0          0           \n",
       "7  4        1864      0.83             0.18       0          0           \n",
       "8  2        1866      2.81             1.22       0          0           \n",
       "9  1        1866      1.40             1.22       0          0           \n",
       "10 1        1866      1.40             1.22       0          0           \n",
       "11 1        1866      1.40             1.22       0          0           \n",
       "12 1        1871      1.17             1.02       0          0           \n",
       "13 7        1948      3.14             0.39       0          0           \n",
       "14 1        1971      2.17             1.89       0          0           \n",
       "15 3        2076      0.38             0.11       0          0           \n",
       "16 1        2263      1.82             1.58       0          0           \n",
       "17 1        2263      1.82             1.58       0          0           \n",
       "18 1        2264      0.23             0.23       0          0           \n",
       "19 2        2341      1.10             0.48       0          0           \n",
       "20 2        2396      4.35             1.89       0          0           \n",
       "21 2        2399      0.72             0.36       0          0           \n",
       "22 1        2412      0.45             0.45       0          0           \n",
       "23 1        2413      2.66             2.31       0          0           \n",
       "24 2        2428      6.00             2.61       0          0           \n",
       "25 2        2429      1.24             0.62       0          0           \n",
       "26 1        2445      0.53             0.53       0          0           \n",
       "27 1        2453      2.12             1.84       0          0           \n",
       "28 1        2454      0.52             0.52       0          0           \n",
       "29 1        2616      3.69             3.21       0          0           \n",
       "30 1        2617      0.31             0.31       0          0           \n",
       "31 2        2679      3.93             1.71       0          0           \n",
       "   is_churn\n",
       "1  0       \n",
       "2  0       \n",
       "3  0       \n",
       "4  0       \n",
       "5  0       \n",
       "6  0       \n",
       "7  0       \n",
       "8  0       \n",
       "9  0       \n",
       "10 0       \n",
       "11 0       \n",
       "12 0       \n",
       "13 0       \n",
       "14 0       \n",
       "15 0       \n",
       "16 0       \n",
       "17 0       \n",
       "18 0       \n",
       "19 0       \n",
       "20 0       \n",
       "21 0       \n",
       "22 0       \n",
       "23 0       \n",
       "24 0       \n",
       "25 0       \n",
       "26 0       \n",
       "27 0       \n",
       "28 0       \n",
       "29 0       \n",
       "30 0       \n",
       "31 0       "
      ]
     },
     "metadata": {},
     "output_type": "display_data"
    }
   ],
   "source": [
    "data[customer_code == '158' & register_date == '2015-10-04'][order(item_code)]"
   ]
  },
  {
   "cell_type": "markdown",
   "metadata": {},
   "source": [
    "The problems described above were fixed in the next chunk of code. For this I assumed that the quantity and unit_price information were inputed correctly and so I used then and aggregated the values considering customer_code, register_date and order_id (the other column were used just so I wouldn't drop then). Once the values were correctly aggregated, therefor removing rows repetition, I calculated the correct item_total_price and total_price."
   ]
  },
  {
   "cell_type": "code",
   "execution_count": 7,
   "metadata": {},
   "outputs": [
    {
     "ename": "ERROR",
     "evalue": "Error in parse(text = x, srcfile = src): <text>:2:18: unexpected ','\n1: #define categorical variables to help automate functions, improve performance and a better cleaner codefactor_cols = c(\n2:   \"customer_code\",\n                    ^\n",
     "output_type": "error",
     "traceback": [
      "Error in parse(text = x, srcfile = src): <text>:2:18: unexpected ','\n1: #define categorical variables to help automate functions, improve performance and a better cleaner codefactor_cols = c(\n2:   \"customer_code\",\n                    ^\nTraceback:\n"
     ]
    }
   ],
   "source": [
    "#define categorical variables to help automate functions, improve performance and a better cleaner code\n",
    "factor_cols = c(\n",
    "  \"customer_code\",\n",
    "  \"sales_channel\",\n",
    "  \"seller_code\",\n",
    "  \"order_id\",\n",
    "  \"item_code\",\n",
    "  \"group_code\",\n",
    "  \"segment_code\",\n",
    "  \"is_churn\"\n",
    ")\n",
    "\n",
    "#hard copy of the data to a new variable\n",
    "fixed_data = copy(data)\n",
    "\n",
    "#Agregates quantity and unit_price. \n",
    "#Since unit_price is the same for all observations I can take the mean without any problem \n",
    "fixed_data = fixed_data[, .(quantity = sum(quantity),\n",
    "                            unit_price = mean(unit_price)), by = c(factor_cols, 'register_date')]\n",
    "\n",
    "#Calculate additional variables\n",
    "fixed_data[, item_total_price := quantity * unit_price]\n",
    "fixed_data[, total_price := sum(item_total_price), by = .(customer_code, register_date, order_id)]\n",
    "\n",
    "#Creates an auxiliary column setting a date by month\n",
    "fixed_data[, monthly_date := as.Date(paste0(\n",
    "  lubridate::year(register_date),\n",
    "  '-',\n",
    "  lubridate::month(register_date),\n",
    "  '-01'\n",
    "),\n",
    "format = \"%Y-%m-%d\")]"
   ]
  },
  {
   "cell_type": "markdown",
   "metadata": {},
   "source": [
    "We can see that now the same situations have no problems"
   ]
  },
  {
   "cell_type": "code",
   "execution_count": null,
   "metadata": {},
   "outputs": [],
   "source": [
    "fixed_data[customer_code == '0' & register_date == '2008-09-23'][order(item_code)]"
   ]
  },
  {
   "cell_type": "code",
   "execution_count": null,
   "metadata": {},
   "outputs": [],
   "source": [
    "fixed_data[customer_code == '158' & register_date == '2015-10-04'][order(item_code)]"
   ]
  },
  {
   "cell_type": "markdown",
   "metadata": {},
   "source": [
    "Another indispensable step in data science, and modeling specially, is feature engineering, which consists in the creation of features based on the existent content of each dataset. So, in order to make a churn model some transformation in the dataset is needed. I aggregated the variables by month and year, using the auxiliary variable __monthly_date__, because I will create some features that requires the data to be in a monthly frequency.\n",
    "\n",
    "In the next step I count, by month, the total distinct values of sales channel, sellers, orders, items, and also the total amount of items sold and the value of the sales and I also keep the information of group, segment and churn of each customer."
   ]
  },
  {
   "cell_type": "code",
   "execution_count": null,
   "metadata": {},
   "outputs": [],
   "source": [
    "#changes the type of string to integer to facilitate notation and reduce memory consumption\n",
    "fixed_data[, is_churn := as.integer(is_churn)]\n",
    "\n",
    "agg_data = fixed_data[, .(\n",
    "  n_channel = uniqueN(sales_channel),\n",
    "  n_seller = uniqueN(seller_code),\n",
    "  n_order = uniqueN(order_id),\n",
    "  n_item = uniqueN(item_code),\n",
    "  group_code = mean(group_code),\n",
    "  segment_code = mean(segment_code),\n",
    "  is_churn = max(as.integer(is_churn)),\n",
    "  total_item = sum(quantity),\n",
    "  total_value = sum(total_price)\n",
    "), by = .(customer_code, monthly_date)]"
   ]
  },
  {
   "cell_type": "markdown",
   "metadata": {},
   "source": [
    "Just knowing which client had churn by flagging every observation of it isn't enough, because more importantly than knowing the client is to know his behavior previously of exiting. This can be achieved be flagging just his last observation (based on the max date) and calculating several measures along the time he was a costumer."
   ]
  },
  {
   "cell_type": "code",
   "execution_count": null,
   "metadata": {},
   "outputs": [],
   "source": [
    "#copy churn flag\n",
    "agg_data[, will_abandon := is_churn]\n",
    "#creates an additional column with the last date of each customer\n",
    "agg_data[, max_date := max(monthly_date), by = customer_code]\n",
    "#For those clients that churn, keeps the flag only in the last observation and changes the rest to 0\n",
    "agg_data[will_abandon == 1 &\n",
    "           monthly_date != max_date, will_abandon := 0]\n",
    "\n",
    "#Changes categorical variables to a proper type, needed to fit and apply models\n",
    "agg_data[, c(factor_cols[factor_cols %in% names(agg_data)], 'will_abandon') := \n",
    "         lapply(.SD, as.factor),\n",
    "         .SDcols = c(factor_cols[factor_cols %in%names(agg_data)], 'will_abandon')]"
   ]
  },
  {
   "cell_type": "markdown",
   "metadata": {},
   "source": [
    "One type of feature that I thought about was to calculate the rate by the total number of orders in each month for each variable, so I would have the rate of items sold by the number of order; the rate of channels used by the number of order, so on so forth. This can be helpful to the model so it can differentiate sales that were big, from sales that seems big but actually represents a bunch of small sales that together has greater volume."
   ]
  },
  {
   "cell_type": "code",
   "execution_count": null,
   "metadata": {},
   "outputs": [],
   "source": [
    "#define variables to help automate functions, improve performance and a better cleaner code\n",
    "tx_variables = c(\"n_channel\", \"n_seller\", \"n_item\", \"total_item\", \"total_value\")\n",
    "#set the output name of columns that will be generated in the transformation by concatenating the variables\n",
    "#with prefixes and suffixes\n",
    "by_order = paste0(\"tx_\", tx_variables, \"_by_order\")\n",
    "\n",
    "#hard copy of the data to a new variable\n",
    "churn_data = copy(agg_data)\n",
    "\n",
    "#create new variables\n",
    "churn_data[, c(by_order) := lapply(.SD, function(col) col/n_order),\n",
    "                                   .SDcols = c(tx_variables)]"
   ]
  },
  {
   "cell_type": "markdown",
   "metadata": {},
   "source": [
    "Another feature that I created was the first derivative of the observations. If we record our calculus class we know that the first derivative represents the growth ratio of a curve, which can be used to determine if a function is increasing or decreasing in a specific point and how fast. The same concept can be used here, we can compute this value to help the model understand if the client's consumption behavior is increasing or decreasing over time and how fast is this happening.\n",
    "\n",
    "In order to calculate this I first needed to calculate the time between two sales for each customer and than used a discrete approximation of the first derivative by using the secant method $\\frac{\\Delta X}{\\Delta time}$\n",
    "\n",
    "I also calculate the difference between two consecutive sales to have a brute and raw value of comparison, kind of analogous to the first derivative but in case the observations were consecutives, i.e., differ by one day and so $\\Delta time = 1$."
   ]
  },
  {
   "cell_type": "code",
   "execution_count": null,
   "metadata": {},
   "outputs": [],
   "source": [
    "#Calculates time diff between two sales of each customer\n",
    "churn_data[, time_between_shopping := as.numeric(difftime(monthly_date,\n",
    "                                                          shift(monthly_date, 1),\n",
    "                                                          units = 'days')),\n",
    "           by = customer_code]\n",
    "\n",
    "#define variables to help automate functions, improve performance and a better cleaner code\n",
    "first_derivative_variables = c(tx_variables, by_order)\n",
    "#set the output name of columns that will be generated in the transformation by concatenating the variables with\n",
    "#prefixes\n",
    "first_derivative_names = paste0(\"dr1_\", first_derivative_variables)\n",
    "\n",
    "#Calculates first derivative\n",
    "churn_data[, c(first_derivative_names) := lapply(.SD, function(col)\n",
    "  (col - shift(col, 1)) / time_between_shopping), by = customer_code, .SDcols = c(first_derivative_variables)]\n",
    "                                                 \n",
    "diff_names = paste0(\"diff_\", first_derivative_variables)\n",
    "\n",
    "churn_data[, c(diff_names) := lapply(.SD, function(col)\n",
    "  col - shift(col, 1)), by = customer_code, .SDcols = c(first_derivative_variables)]"
   ]
  },
  {
   "cell_type": "markdown",
   "metadata": {},
   "source": [
    "The last feature I created was the ration between last two trimesters. It's a well know feature in economy and in business in general, but usually used by quarters, since companies usually close their balances in this period. It's idea is analogous to the others ratios and the first derivative: it gives a sense of growth speed."
   ]
  },
  {
   "cell_type": "code",
   "execution_count": null,
   "metadata": {},
   "outputs": [],
   "source": [
    "#define variables to help automate functions, improve performance and a better cleaner code \n",
    "\n",
    "#set the output name of columns that will be generated in the transformation by concatenating the variables with\n",
    "#prefixes\n",
    "\n",
    "last_observations_tx = paste0('last_obs_tx_', tx_variables)\n",
    "\n",
    "#invert date order so that the most recently values comes first\n",
    "setorder(churn_data, customer_code, -monthly_date)\n",
    "\n",
    "#since it's ratio it can occur division by zero, when this happens the values is set to 0\n",
    "last_observations_tx_data = churn_data[, lapply(.SD, function(col)\n",
    "  ifelse(\n",
    "    sum(col[1:3], na.rm = T) / sum(col[4:6], na.rm = T) == Inf,\n",
    "    0,\n",
    "    sum(col[1:3], na.rm = T) / sum(col[4:6], na.rm = T)\n",
    "  )), by = customer_code, .SDcols = c(tx_variables)]\n",
    "\n",
    "#change column names to doesn't mess up with join                                                \n",
    "names(last_observations_tx_data) = c('customer_code', last_observations_tx)\n",
    "                                                \n",
    "#left join to put all variables together\n",
    "churn_data = merge(churn_data,\n",
    "                   last_observations_tx_data,\n",
    "                   all.x = T,\n",
    "                   by = 'customer_code')"
   ]
  },
  {
   "cell_type": "markdown",
   "metadata": {},
   "source": [
    "Once all variables were created the information is then filtered in order to stay just with the last sale record of each customer, before he churns (or not), to build and apply a model just in the record that matters, since it's the only one that can really determine the behavior before exiting or not.\n",
    "\n",
    "During the entire process I choose not to fill the blank spaces between sales with zeros to calculate all values and variables cause otherwise the matrix would be very sparse and the number of observation representing churn clients would be very small, implicating a rare event."
   ]
  },
  {
   "cell_type": "code",
   "execution_count": null,
   "metadata": {},
   "outputs": [],
   "source": [
    "#Filter last observation and also the rows without is_churn values, \n",
    "#since this variable is the classification label, it can't have any abnormal value \n",
    "filtered_data = churn_data[monthly_date == max_date][!is.na(is_churn)]\n",
    "\n",
    "#check for NAs in other variables\n",
    "filtered_data[, lapply(.SD, function(x) sum(is.na(x)))]\n",
    "\n",
    "#Replace NAs with 0                       \n",
    "filtered_data[is.na(filtered_data)] = 0\n",
    "\n",
    "#drop auxiliary, unneeded columns\n",
    "filtered_data[, `:=` (\n",
    "  is_churn = NULL,\n",
    "  max_date = NULL,\n",
    "  monthly_date = NULL,\n",
    "  customer_code = NULL\n",
    ")]"
   ]
  },
  {
   "cell_type": "markdown",
   "metadata": {},
   "source": [
    "## Modeling\n",
    "### Preprocess procesures\n",
    "## Modeling\n",
    "### Preprocessing procedures\n",
    "At this point we have a dataset with a just a few observations (818) and a lot of variables (40). To boost the model performance, both in processing time and accuracy, I decided to use a Principal Component Analysis to change my variables space, and then filter the significant components using the cumulative variance proportion criteria setting a level of 95% of captured variance, which resulted in just 13 principal components plus the clustering information about group and segment. In order to not input bias on the PCA, first I standardize the data using Z-Score normalization, i.e. $Z = \\frac{X-\\mu}{\\sigma}$, this way the PCA is not biased by scale measure."
   ]
  },
  {
   "cell_type": "code",
   "execution_count": null,
   "metadata": {},
   "outputs": [],
   "source": [
    "#define variables to help automate functions, improve performance and a better cleaner code\n",
    "numerical_cols = c(\n",
    "  tx_variables,\n",
    "  'n_order',\n",
    "  by_order,\n",
    "  diff_names,\n",
    "  'time_between_shopping',\n",
    "  first_derivative_names,\n",
    "  last_observations_tx\n",
    ")\n",
    "\n",
    "#standardize and fit PCA\n",
    "preprocess_params = caret::preProcess(filtered_data[, .SD, .SDcols = numerical_cols],\n",
    "                                      method = c(\"center\", \"scale\", \"pca\"),\n",
    "                                      thresh = 0.95)\n",
    "#summary information of this preprocess procedure\n",
    "preprocess_params\n",
    "\n",
    "#apply preprocessing to data\n",
    "transformed = predict(preprocess_params, filtered_data)"
   ]
  },
  {
   "cell_type": "markdown",
   "metadata": {},
   "source": [
    "### Building a model\n",
    "To reduce over fitting I used a cross validation technique using 10 folds and 3 repetitions and to improve performance, measured by Accuracy information, I did a grid search to optimize the value of the mtry hyper parameter and kept the standard 500 ntrees. The grid searches all extent, start from the minimum 1 and goes as high as the total number of variables."
   ]
  },
  {
   "cell_type": "code",
   "execution_count": null,
   "metadata": {},
   "outputs": [],
   "source": [
    "#choosing a seed value to random generation\n",
    "seed = 112358\n",
    "#set accuracy as a metric of performance to be improved\n",
    "metric = \"Accuracy\"\n",
    "\n",
    "#K-Fold cross validation with 10 folds and 3 repetitions\n",
    "control = trainControl(\n",
    "  method = \"repeatedcv\",\n",
    "  number = 10,\n",
    "  repeats = 3,\n",
    "  search = \"grid\"\n",
    ")\n",
    "#Define grid search\n",
    "tunegrid = expand.grid(.mtry = c(1:ncol(transformed)))\n",
    "\n",
    "#Splits data into training and test set\n",
    "idx = createDataPartition(transformed$will_abandon, p = 0.8, list = FALSE)\n",
    "training = transformed[idx, ]\n",
    "test = transformed[-idx, ]"
   ]
  },
  {
   "cell_type": "markdown",
   "metadata": {},
   "source": [
    "I choose the Random Forest model because it is a well-known technique acknowledge by its robust result in most applications regardless of how one sets the hyper parameter, it is easy to understand, ergo interpretable at some extent. And specially because its separability surface in classification problems is very adaptable."
   ]
  },
  {
   "cell_type": "code",
   "execution_count": null,
   "metadata": {},
   "outputs": [],
   "source": [
    "#Set random seed\n",
    "set.seed(seed)\n",
    "\n",
    "#Fit model\n",
    "rf_gridsearch = train(\n",
    "  will_abandon ~ .,\n",
    "  data = training,\n",
    "  method = \"rf\",\n",
    "  metric = metric,\n",
    "  tuneGrid = tunegrid,\n",
    "  trControl = control\n",
    ")"
   ]
  },
  {
   "cell_type": "markdown",
   "metadata": {},
   "source": [
    "The plot shows how the mtry hyper parameter influences the model mean results and based on the table I can choose the specified mtry"
   ]
  },
  {
   "cell_type": "code",
   "execution_count": null,
   "metadata": {},
   "outputs": [],
   "source": [
    "plot(rf_gridsearch)\n",
    "\n",
    "print(rf_gridsearch)"
   ]
  },
  {
   "cell_type": "markdown",
   "metadata": {},
   "source": [
    "### Model Evaluation\n",
    "Using the model described above we can applied to both training set and test set and see how it behaves"
   ]
  },
  {
   "cell_type": "code",
   "execution_count": null,
   "metadata": {},
   "outputs": [],
   "source": [
    "#hard copy of the data to a new variable\n",
    "output_training = copy(training)\n",
    "#hard copy of the data to a new variable\n",
    "output_test = copy(test)\n",
    "\n",
    "#Gets each label class probability to test set\n",
    "test_prediction_probability = predict(rf_gridsearch, test, type = \"prob\")\n",
    "\n",
    "#Gets predicted class label of training set by the model \n",
    "output_training[, predicted := predict(rf_gridsearch, training)]\n",
    "\n",
    "#Gets predicted class label of training set by the model \n",
    "output_test[, predicted := predict(rf_gridsearch, test)]\n",
    "\n",
    "#Creates a column with the right probability measure\n",
    "output_test[, prob := pmax(test_prediction_probability$`0`,\n",
    "                           test_prediction_probability$`1`)]"
   ]
  },
  {
   "cell_type": "markdown",
   "metadata": {},
   "source": [
    "As we can see, and imaging, the accuracy is outstanding when computed over the trainig set, providing 100% of accuracy and a narrow confidence interval "
   ]
  },
  {
   "cell_type": "code",
   "execution_count": null,
   "metadata": {},
   "outputs": [],
   "source": [
    "#creates confusion matrix for training set\n",
    "cm_training = confusionMatrix(output_training$predicted, output_training$will_abandon)\n",
    "cm_training"
   ]
  },
  {
   "cell_type": "markdown",
   "metadata": {},
   "source": [
    "Now, when we look to the test set, the results hold, which means that this model probably isn't over fitting and so it is generic enough to be applied in others subsets like those tested here"
   ]
  },
  {
   "cell_type": "code",
   "execution_count": null,
   "metadata": {},
   "outputs": [],
   "source": [
    "#creates confusion matrix for test set\n",
    "cm_test = confusionMatrix(output_test$predicted, output_test$will_abandon)\n",
    "cm_test"
   ]
  },
  {
   "cell_type": "markdown",
   "metadata": {},
   "source": [
    "However the accuracy isn't the best performance measure there is, since its raw count of hits and misses. A more sophisticated and robust measure is the area under the roc curve that is computed and plotted bellow. It show a measure greater than the default 70% threshold, corroborating previous results"
   ]
  },
  {
   "cell_type": "code",
   "execution_count": null,
   "metadata": {},
   "outputs": [],
   "source": [
    "#calculates ROC AUC\n",
    "roc = with(output_test, roc(will_abandon, prob))\n",
    "roc\n",
    "plot(roc)"
   ]
  },
  {
   "cell_type": "markdown",
   "metadata": {},
   "source": [
    "As we are dealing with an unbalanced classification problem, one can also disregard the roc curve since it is often used to balanced problems. So, for last I propose the Area Under Precision x Recall Curve, that can handle unbalanced data better than ROC"
   ]
  },
  {
   "cell_type": "code",
   "execution_count": null,
   "metadata": {},
   "outputs": [],
   "source": [
    "#calculates PR AUC for positive class\n",
    "pr_positive = pr.curve(\n",
    "  scores.class0 = output_test[will_abandon == 0]$prob,\n",
    "  scores.class1 = output_test[will_abandon == 1]$prob,\n",
    "  curve = TRUE,\n",
    "  max.compute = T,\n",
    "  min.compute = T,\n",
    "  rand.compute = T\n",
    ")\n",
    "\n",
    "plot(pr_positive)\n",
    "\n",
    "#calculates PR AUC for negative class\n",
    "pr_negative = pr.curve(\n",
    "  scores.class0 = 1 - output_test[will_abandon == 0]$prob,\n",
    "  scores.class1 = 1 - output_test[will_abandon == 1]$prob,\n",
    "  curve = TRUE,\n",
    "  max.compute = T,\n",
    "  min.compute = T,\n",
    "  rand.compute = T\n",
    ")\n",
    "\n",
    "plot(pr_negative)\n"
   ]
  },
  {
   "cell_type": "markdown",
   "metadata": {},
   "source": [
    "One could think about feature selection or at least to check the ones significant to the model in order to better understand it and improve it latter."
   ]
  },
  {
   "cell_type": "code",
   "execution_count": null,
   "metadata": {},
   "outputs": [],
   "source": [
    "varImp(rf_gridsearch)"
   ]
  },
  {
   "cell_type": "markdown",
   "metadata": {},
   "source": [
    "Given more time I would do a better descriptive analysis and try to treat those possible outliers I mentioned. I'd look at the principal component in more depth to understand than and verify which type of variable would benefit my model the most in order to think in others to add to the model. Would try to improve the model performance using Ensemble techniques like boosting methods. Would improve my code to run parallel and event oriented to be consumed as an API, creating more functions and passing parameters as arguments for example. Even build a dashboard using Shiny if needed be."
   ]
  },
  {
   "cell_type": "code",
   "execution_count": null,
   "metadata": {},
   "outputs": [],
   "source": []
  }
 ],
 "metadata": {
  "kernelspec": {
   "display_name": "R",
   "language": "R",
   "name": "ir"
  },
  "language_info": {
   "codemirror_mode": "r",
   "file_extension": ".r",
   "mimetype": "text/x-r-source",
   "name": "R",
   "pygments_lexer": "r",
   "version": "3.4.3"
  }
 },
 "nbformat": 4,
 "nbformat_minor": 2
}
